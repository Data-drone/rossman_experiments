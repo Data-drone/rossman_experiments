{
 "cells": [
  {
   "cell_type": "markdown",
   "metadata": {},
   "source": [
    "# Load Features"
   ]
  },
  {
   "cell_type": "code",
   "execution_count": 1,
   "metadata": {
    "collapsed": true
   },
   "outputs": [],
   "source": [
    "import pickle\n",
    "X_train = pickle.load(open( 'feat_table/xgb_1_x_train_table.pkl', \"rb\" ))\n",
    "y_train = pickle.load(open( 'feat_table/xgb_1_y_train_table.pkl', \"rb\" ))\n",
    "X_valid = pickle.load(open( 'feat_table/xgb_1_x_valid_table.pkl', \"rb\" ))\n",
    "y_valid = pickle.load(open( 'feat_table/xgb_1_y_valid_table.pkl', \"rb\" ))\n",
    "test = pickle.load(open( 'feat_table/xgb_1_test_table.pkl', \"rb\" ))\n",
    "features = pickle.load(open( 'feat_table/xgb_1_features_vector_vector.pkl', \"rb\" ))"
   ]
  },
  {
   "cell_type": "code",
   "execution_count": 2,
   "metadata": {
    "collapsed": true
   },
   "outputs": [],
   "source": [
    "# Metrics - not used\n",
    "import numpy as np\n",
    "def rmspe(y, yhat):\n",
    "    return np.sqrt(np.mean(((y - yhat)/y) ** 2))\n",
    "\n",
    "def rmspe_xg(yhat, y):\n",
    "    y = np.expm1(y.get_label())\n",
    "    yhat = np.expm1(yhat)\n",
    "    return \"rmspe\", rmspe(y, yhat)"
   ]
  },
  {
   "cell_type": "code",
   "execution_count": 15,
   "metadata": {
    "collapsed": false
   },
   "outputs": [
    {
     "data": {
      "text/plain": [
       "array([ 8.78905071,  9.03574886,  8.93221251, ...,  9.29697668,\n",
       "        8.55660619,  8.6845703 ])"
      ]
     },
     "execution_count": 15,
     "metadata": {},
     "output_type": "execute_result"
    }
   ],
   "source": []
  },
  {
   "cell_type": "markdown",
   "metadata": {},
   "source": [
    "# LSTM Model basic"
   ]
  },
  {
   "cell_type": "code",
   "execution_count": 5,
   "metadata": {
    "collapsed": false
   },
   "outputs": [
    {
     "name": "stderr",
     "output_type": "stream",
     "text": [
      "Using TensorFlow backend.\n"
     ]
    }
   ],
   "source": [
    "from keras.models import Sequential\n",
    "from keras.layers import LSTM, Dense, Flatten, Dropout"
   ]
  },
  {
   "cell_type": "markdown",
   "metadata": {},
   "source": [
    "### Model Specific Preprocessing"
   ]
  },
  {
   "cell_type": "code",
   "execution_count": 9,
   "metadata": {
    "collapsed": true
   },
   "outputs": [],
   "source": [
    "x_train_array = np.copy(X_train[features].values)\n",
    "x_valid_array = np.copy(X_valid[features].values)"
   ]
  },
  {
   "cell_type": "code",
   "execution_count": 10,
   "metadata": {
    "collapsed": false
   },
   "outputs": [],
   "source": [
    "format_sub_train_x = x_train_array.reshape((x_train_array.shape[0], 1, x_train_array.shape[1]) )\n",
    "format_sub_val_x = x_valid_array.reshape((x_valid_array.shape[0], 1, x_valid_array.shape[1]) )"
   ]
  },
  {
   "cell_type": "markdown",
   "metadata": {},
   "source": [
    "### Define new loss Function"
   ]
  },
  {
   "cell_type": "code",
   "execution_count": 38,
   "metadata": {
    "collapsed": false
   },
   "outputs": [],
   "source": [
    "from keras import backend as K\n",
    "def mean_squared_percentage_error(y_true, y_pred):\n",
    "    return K.mean(K.square((y_true - y_pred) / K.clip(K.abs(y_true),\n",
    "                                            K.epsilon(),\n",
    "                                            None)), axis=-1)\n",
    "mspe = MSPE = mean_squared_percentage_error"
   ]
  },
  {
   "cell_type": "markdown",
   "metadata": {},
   "source": [
    "### Model Definition"
   ]
  },
  {
   "cell_type": "code",
   "execution_count": 40,
   "metadata": {
    "collapsed": false
   },
   "outputs": [],
   "source": [
    "model = Sequential()\n",
    "model.add(LSTM(50, input_shape=(format_sub_train_x.shape[1], format_sub_train_x.shape[2])) )\n",
    "model.add(Dense(1))\n",
    "model.compile(loss='mse', optimizer='adam')"
   ]
  },
  {
   "cell_type": "markdown",
   "metadata": {},
   "source": [
    "# Train Model"
   ]
  },
  {
   "cell_type": "code",
   "execution_count": 17,
   "metadata": {
    "collapsed": false
   },
   "outputs": [
    {
     "name": "stdout",
     "output_type": "stream",
     "text": [
      "Train on 834205 samples, validate on 10133 samples\n",
      "Epoch 1/100\n",
      " - 11s - loss: 0.3129 - val_loss: 0.3150\n",
      "Epoch 2/100\n",
      " - 11s - loss: 0.3137 - val_loss: 0.3104\n",
      "Epoch 3/100\n",
      " - 11s - loss: 0.3129 - val_loss: 0.3102\n",
      "Epoch 4/100\n",
      " - 11s - loss: 0.3134 - val_loss: 0.3200\n",
      "Epoch 5/100\n",
      " - 11s - loss: 0.3130 - val_loss: 0.3106\n",
      "Epoch 6/100\n",
      " - 11s - loss: 0.3135 - val_loss: 0.3141\n",
      "Epoch 7/100\n",
      " - 11s - loss: 0.3129 - val_loss: 0.3106\n",
      "Epoch 8/100\n",
      " - 11s - loss: 0.3130 - val_loss: 0.3225\n",
      "Epoch 9/100\n",
      " - 11s - loss: 0.3130 - val_loss: 0.3156\n",
      "Epoch 10/100\n",
      " - 11s - loss: 0.3129 - val_loss: 0.3106\n",
      "Epoch 11/100\n",
      " - 11s - loss: 0.3127 - val_loss: 0.3169\n",
      "Epoch 12/100\n",
      " - 11s - loss: 0.3132 - val_loss: 0.3150\n",
      "Epoch 13/100\n",
      " - 11s - loss: 0.3129 - val_loss: 0.3124\n",
      "Epoch 14/100\n",
      " - 11s - loss: 0.3130 - val_loss: 0.3125\n",
      "Epoch 15/100\n",
      " - 11s - loss: 0.3129 - val_loss: 0.3150\n",
      "Epoch 16/100\n",
      " - 11s - loss: 0.3126 - val_loss: 0.3103\n",
      "Epoch 17/100\n",
      " - 11s - loss: 0.3129 - val_loss: 0.3151\n",
      "Epoch 18/100\n",
      " - 11s - loss: 0.3122 - val_loss: 0.3174\n",
      "Epoch 19/100\n",
      " - 11s - loss: 0.3129 - val_loss: 0.3179\n",
      "Epoch 20/100\n",
      " - 11s - loss: 0.3131 - val_loss: 0.3203\n",
      "Epoch 21/100\n",
      " - 11s - loss: 0.3129 - val_loss: 0.3112\n",
      "Epoch 22/100\n",
      " - 11s - loss: 0.3129 - val_loss: 0.3102\n",
      "Epoch 23/100\n",
      " - 11s - loss: 0.3127 - val_loss: 0.3106\n",
      "Epoch 24/100\n",
      " - 11s - loss: 0.3126 - val_loss: 0.3105\n",
      "Epoch 25/100\n",
      " - 11s - loss: 0.3127 - val_loss: 0.3128\n",
      "Epoch 26/100\n",
      " - 11s - loss: 0.3131 - val_loss: 0.3109\n",
      "Epoch 27/100\n",
      " - 11s - loss: 0.3128 - val_loss: 0.3110\n",
      "Epoch 28/100\n",
      " - 11s - loss: 0.3130 - val_loss: 0.3125\n",
      "Epoch 29/100\n",
      " - 11s - loss: 0.3129 - val_loss: 0.3113\n",
      "Epoch 30/100\n",
      " - 11s - loss: 0.3125 - val_loss: 0.3101\n",
      "Epoch 31/100\n",
      " - 11s - loss: 0.3131 - val_loss: 0.3112\n",
      "Epoch 32/100\n",
      " - 11s - loss: 0.3123 - val_loss: 0.3114\n",
      "Epoch 33/100\n",
      " - 11s - loss: 0.3126 - val_loss: 0.3109\n",
      "Epoch 34/100\n",
      " - 11s - loss: 0.3127 - val_loss: 0.3209\n",
      "Epoch 35/100\n",
      " - 11s - loss: 0.3128 - val_loss: 0.3104\n",
      "Epoch 36/100\n",
      " - 11s - loss: 0.3136 - val_loss: 0.3108\n",
      "Epoch 37/100\n",
      " - 11s - loss: 0.3125 - val_loss: 0.3114\n",
      "Epoch 38/100\n",
      " - 11s - loss: 0.3133 - val_loss: 0.3103\n",
      "Epoch 39/100\n",
      " - 11s - loss: 0.3129 - val_loss: 0.3103\n",
      "Epoch 40/100\n",
      " - 11s - loss: 0.3125 - val_loss: 0.3156\n",
      "Epoch 41/100\n",
      " - 11s - loss: 0.3131 - val_loss: 0.3177\n",
      "Epoch 42/100\n",
      " - 11s - loss: 0.3128 - val_loss: 0.3306\n",
      "Epoch 43/100\n",
      " - 11s - loss: 0.3136 - val_loss: 0.3111\n",
      "Epoch 44/100\n",
      " - 11s - loss: 0.3125 - val_loss: 0.3099\n",
      "Epoch 45/100\n",
      " - 11s - loss: 0.3122 - val_loss: 0.3101\n",
      "Epoch 46/100\n",
      " - 11s - loss: 0.3120 - val_loss: 0.3106\n",
      "Epoch 47/100\n",
      " - 11s - loss: 0.3122 - val_loss: 0.3102\n",
      "Epoch 48/100\n",
      " - 11s - loss: 0.3127 - val_loss: 0.3141\n",
      "Epoch 49/100\n",
      " - 11s - loss: 0.3127 - val_loss: 0.3114\n",
      "Epoch 50/100\n",
      " - 11s - loss: 0.3123 - val_loss: 0.3103\n",
      "Epoch 51/100\n",
      " - 11s - loss: 0.3123 - val_loss: 0.3194\n",
      "Epoch 52/100\n",
      " - 11s - loss: 0.3122 - val_loss: 0.3116\n",
      "Epoch 53/100\n",
      " - 11s - loss: 0.3116 - val_loss: 0.3103\n",
      "Epoch 54/100\n",
      " - 11s - loss: 0.3120 - val_loss: 0.3102\n",
      "Epoch 55/100\n",
      " - 11s - loss: 0.3122 - val_loss: 0.3105\n",
      "Epoch 56/100\n",
      " - 11s - loss: 0.3119 - val_loss: 0.3187\n",
      "Epoch 57/100\n",
      " - 11s - loss: 0.3137 - val_loss: 0.3107\n",
      "Epoch 58/100\n",
      " - 11s - loss: 0.3118 - val_loss: 0.3201\n",
      "Epoch 59/100\n",
      " - 11s - loss: 0.3128 - val_loss: 0.3156\n",
      "Epoch 60/100\n",
      " - 11s - loss: 0.3126 - val_loss: 0.3104\n",
      "Epoch 61/100\n",
      " - 11s - loss: 0.3129 - val_loss: 0.3112\n",
      "Epoch 62/100\n",
      " - 11s - loss: 0.3126 - val_loss: 0.3101\n",
      "Epoch 63/100\n",
      " - 11s - loss: 0.3131 - val_loss: 0.3127\n",
      "Epoch 64/100\n",
      " - 11s - loss: 0.3126 - val_loss: 0.3131\n",
      "Epoch 65/100\n",
      " - 11s - loss: 0.3117 - val_loss: 0.3105\n",
      "Epoch 66/100\n",
      " - 11s - loss: 0.3122 - val_loss: 0.3129\n",
      "Epoch 67/100\n",
      " - 11s - loss: 0.3117 - val_loss: 0.3109\n",
      "Epoch 68/100\n",
      " - 11s - loss: 0.3124 - val_loss: 0.3104\n",
      "Epoch 69/100\n",
      " - 11s - loss: 0.3124 - val_loss: 0.3151\n",
      "Epoch 70/100\n",
      " - 11s - loss: 0.3118 - val_loss: 0.3097\n",
      "Epoch 71/100\n",
      " - 11s - loss: 0.3125 - val_loss: 0.3107\n",
      "Epoch 72/100\n",
      " - 11s - loss: 0.3122 - val_loss: 0.3111\n",
      "Epoch 73/100\n",
      " - 11s - loss: 0.3128 - val_loss: 0.3100\n",
      "Epoch 74/100\n",
      " - 11s - loss: 0.3121 - val_loss: 0.3100\n",
      "Epoch 75/100\n",
      " - 11s - loss: 0.3121 - val_loss: 0.3115\n",
      "Epoch 76/100\n",
      " - 11s - loss: 0.3128 - val_loss: 0.3182\n",
      "Epoch 77/100\n",
      " - 11s - loss: 0.3120 - val_loss: 0.3118\n",
      "Epoch 78/100\n",
      " - 11s - loss: 0.3123 - val_loss: 0.3127\n",
      "Epoch 79/100\n",
      " - 11s - loss: 0.3124 - val_loss: 0.3155\n",
      "Epoch 80/100\n",
      " - 11s - loss: 0.3127 - val_loss: 0.3114\n",
      "Epoch 81/100\n",
      " - 11s - loss: 0.3125 - val_loss: 0.3197\n",
      "Epoch 82/100\n",
      " - 11s - loss: 0.3122 - val_loss: 0.3123\n",
      "Epoch 83/100\n",
      " - 11s - loss: 0.3127 - val_loss: 0.3120\n",
      "Epoch 84/100\n",
      " - 11s - loss: 0.3121 - val_loss: 0.3155\n",
      "Epoch 85/100\n",
      " - 11s - loss: 0.3121 - val_loss: 0.3125\n",
      "Epoch 86/100\n",
      " - 11s - loss: 0.3119 - val_loss: 0.3105\n",
      "Epoch 87/100\n",
      " - 11s - loss: 0.3125 - val_loss: 0.3135\n",
      "Epoch 88/100\n",
      " - 11s - loss: 0.3115 - val_loss: 0.3145\n",
      "Epoch 89/100\n",
      " - 11s - loss: 0.3120 - val_loss: 0.3108\n",
      "Epoch 90/100\n",
      " - 11s - loss: 0.3121 - val_loss: 0.3107\n",
      "Epoch 91/100\n",
      " - 11s - loss: 0.3115 - val_loss: 0.3103\n",
      "Epoch 92/100\n",
      " - 11s - loss: 0.3118 - val_loss: 0.3103\n",
      "Epoch 93/100\n",
      " - 11s - loss: 0.3120 - val_loss: 0.3105\n",
      "Epoch 94/100\n",
      " - 11s - loss: 0.3121 - val_loss: 0.3103\n",
      "Epoch 95/100\n",
      " - 11s - loss: 0.3119 - val_loss: 0.3108\n",
      "Epoch 96/100\n",
      " - 11s - loss: 0.3122 - val_loss: 0.3102\n",
      "Epoch 97/100\n",
      " - 11s - loss: 0.3118 - val_loss: 0.3165\n",
      "Epoch 98/100\n",
      " - 11s - loss: 0.3116 - val_loss: 0.3107\n",
      "Epoch 99/100\n",
      " - 11s - loss: 0.3121 - val_loss: 0.3105\n",
      "Epoch 100/100\n",
      " - 11s - loss: 0.3122 - val_loss: 0.3116\n"
     ]
    }
   ],
   "source": [
    "mod_1 = model.fit(format_sub_train_x, np.copy(y_train), epochs=100, batch_size=100, \n",
    "                    validation_data=(format_sub_val_x, np.copy(y_valid)), verbose=2, shuffle=False)"
   ]
  },
  {
   "cell_type": "markdown",
   "metadata": {},
   "source": [
    "# Prediction Code"
   ]
  },
  {
   "cell_type": "code",
   "execution_count": 26,
   "metadata": {
    "collapsed": false
   },
   "outputs": [],
   "source": [
    "dtest = np.copy(test[features].values)\n",
    "test_frame = dtest.reshape((dtest.shape[0], 1, dtest.shape[1]) )"
   ]
  },
  {
   "cell_type": "code",
   "execution_count": 27,
   "metadata": {
    "collapsed": false
   },
   "outputs": [],
   "source": [
    "test_probs = model.predict(test_frame)\n",
    "# Make Submission"
   ]
  },
  {
   "cell_type": "code",
   "execution_count": 33,
   "metadata": {
    "collapsed": false
   },
   "outputs": [
    {
     "data": {
      "text/plain": [
       "array([ 8.96096992,  8.96096992,  8.96096992, ...,  8.71639442,\n",
       "        8.71639442,  8.71639442], dtype=float32)"
      ]
     },
     "execution_count": 33,
     "metadata": {},
     "output_type": "execute_result"
    }
   ],
   "source": [
    "test_probs\n"
   ]
  },
  {
   "cell_type": "code",
   "execution_count": 34,
   "metadata": {
    "collapsed": false
   },
   "outputs": [],
   "source": [
    "import pandas as pd\n",
    "result = pd.DataFrame({\"Id\": test[\"Id\"], 'Sales': np.expm1(test_probs.flatten())})"
   ]
  },
  {
   "cell_type": "code",
   "execution_count": 35,
   "metadata": {
    "collapsed": true
   },
   "outputs": [],
   "source": [
    "result.to_csv(\"submission/lstm_model1_submission.csv\", index=False)"
   ]
  }
 ],
 "metadata": {
  "kernelspec": {
   "display_name": "Python 3",
   "language": "python",
   "name": "python3"
  },
  "language_info": {
   "codemirror_mode": {
    "name": "ipython",
    "version": 3
   },
   "file_extension": ".py",
   "mimetype": "text/x-python",
   "name": "python",
   "nbconvert_exporter": "python",
   "pygments_lexer": "ipython3",
   "version": "3.5.2"
  }
 },
 "nbformat": 4,
 "nbformat_minor": 2
}
