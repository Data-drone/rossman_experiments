{
 "cells": [
  {
   "cell_type": "markdown",
   "metadata": {},
   "source": [
    "# LSTM Model 6"
   ]
  },
  {
   "cell_type": "code",
   "execution_count": 1,
   "metadata": {
    "collapsed": true
   },
   "outputs": [],
   "source": [
    "import pickle\n",
    "X_train = pickle.load(open( 'feat_table/xgb_1_x_train_table.pkl', \"rb\" ))\n",
    "y_train = pickle.load(open( 'feat_table/xgb_1_y_train_table.pkl', \"rb\" ))\n",
    "X_valid = pickle.load(open( 'feat_table/xgb_1_x_valid_table.pkl', \"rb\" ))\n",
    "y_valid = pickle.load(open( 'feat_table/xgb_1_y_valid_table.pkl', \"rb\" ))\n",
    "test = pickle.load(open( 'feat_table/xgb_1_test_table.pkl', \"rb\" ))\n",
    "features = pickle.load(open( 'feat_table/xgb_1_features_vector_vector.pkl', \"rb\" ))"
   ]
  },
  {
   "cell_type": "code",
   "execution_count": 8,
   "metadata": {
    "collapsed": true
   },
   "outputs": [],
   "source": [
    "# keras libs\n",
    "from keras.models import Model\n",
    "from keras.layers import Dense, Flatten, Dropout, Input\n",
    "from keras.layers.recurrent import LSTM\n",
    "import numpy as np\n",
    "from keras import backend as K"
   ]
  },
  {
   "cell_type": "code",
   "execution_count": 4,
   "metadata": {
    "collapsed": false
   },
   "outputs": [],
   "source": [
    "# reformatting\n",
    "x_train_array = np.copy(X_train[features].values)\n",
    "x_valid_array = np.copy(X_valid[features].values)\n",
    "\n",
    "format_sub_train_x = x_train_array.reshape((x_train_array.shape[0], 1, x_train_array.shape[1]) )\n",
    "format_sub_val_x = x_valid_array.reshape((x_valid_array.shape[0], 1, x_valid_array.shape[1]) )\n",
    "\n",
    "# custom loss function\n",
    "def mean_squared_percentage_error(y_true, y_pred):\n",
    "    return K.mean(K.square((y_true - y_pred) / K.clip(K.abs(y_true),\n",
    "                                            K.epsilon(),\n",
    "                                            None)), axis=-1)"
   ]
  },
  {
   "cell_type": "code",
   "execution_count": 10,
   "metadata": {
    "collapsed": false
   },
   "outputs": [
    {
     "data": {
      "text/plain": [
       "(834205, 1, 16)"
      ]
     },
     "execution_count": 10,
     "metadata": {},
     "output_type": "execute_result"
    }
   ],
   "source": [
    "format_sub_train_x.shape"
   ]
  },
  {
   "cell_type": "code",
   "execution_count": 23,
   "metadata": {
    "collapsed": false
   },
   "outputs": [],
   "source": [
    "model_input = Input( shape = (format_sub_train_x.shape[1], format_sub_train_x.shape[2]) )\n",
    "lstm_1 = LSTM(100, return_sequences=True)(model_input)\n",
    "dropout_mod = Dropout(0.2)(lstm_1)\n",
    "lstm_2 = LSTM(100)(dropout_mod)\n",
    "dropout_mod_2 = Dropout(0.2)(lstm_2)\n",
    "output = Dense(1)(dropout_mod_2)\n",
    "model = Model(inputs = model_input, outputs = output)"
   ]
  },
  {
   "cell_type": "code",
   "execution_count": 24,
   "metadata": {
    "collapsed": false
   },
   "outputs": [
    {
     "name": "stdout",
     "output_type": "stream",
     "text": [
      "_________________________________________________________________\n",
      "Layer (type)                 Output Shape              Param #   \n",
      "=================================================================\n",
      "input_13 (InputLayer)        (None, 1, 16)             0         \n",
      "_________________________________________________________________\n",
      "lstm_22 (LSTM)               (None, 1, 100)            46800     \n",
      "_________________________________________________________________\n",
      "dropout_12 (Dropout)         (None, 1, 100)            0         \n",
      "_________________________________________________________________\n",
      "lstm_23 (LSTM)               (None, 100)               80400     \n",
      "_________________________________________________________________\n",
      "dropout_13 (Dropout)         (None, 100)               0         \n",
      "_________________________________________________________________\n",
      "dense_4 (Dense)              (None, 1)                 101       \n",
      "=================================================================\n",
      "Total params: 127,301\n",
      "Trainable params: 127,301\n",
      "Non-trainable params: 0\n",
      "_________________________________________________________________\n",
      "None\n"
     ]
    }
   ],
   "source": [
    "print(model.summary())"
   ]
  },
  {
   "cell_type": "code",
   "execution_count": 25,
   "metadata": {
    "collapsed": true
   },
   "outputs": [],
   "source": [
    "model.compile(loss=mean_squared_percentage_error, optimizer='adam')"
   ]
  },
  {
   "cell_type": "code",
   "execution_count": 26,
   "metadata": {
    "collapsed": false
   },
   "outputs": [
    {
     "name": "stdout",
     "output_type": "stream",
     "text": [
      "Train on 834205 samples, validate on 10133 samples\n",
      "Epoch 1/100\n",
      " - 44s - loss: 0.0098 - val_loss: 0.0026\n",
      "Epoch 2/100\n",
      " - 39s - loss: 0.0040 - val_loss: 0.0024\n",
      "Epoch 3/100\n",
      " - 39s - loss: 0.0033 - val_loss: 0.0025\n",
      "Epoch 4/100\n",
      " - 39s - loss: 0.0028 - val_loss: 0.0024\n",
      "Epoch 5/100\n",
      " - 39s - loss: 0.0026 - val_loss: 0.0024\n",
      "Epoch 6/100\n",
      " - 39s - loss: 0.0025 - val_loss: 0.0024\n",
      "Epoch 7/100\n",
      " - 39s - loss: 0.0024 - val_loss: 0.0024\n",
      "Epoch 8/100\n",
      " - 39s - loss: 0.0024 - val_loss: 0.0024\n",
      "Epoch 9/100\n",
      " - 39s - loss: 0.0024 - val_loss: 0.0024\n",
      "Epoch 10/100\n",
      " - 39s - loss: 0.0024 - val_loss: 0.0023\n",
      "Epoch 11/100\n",
      " - 39s - loss: 0.0023 - val_loss: 0.0022\n",
      "Epoch 12/100\n",
      " - 39s - loss: 0.0023 - val_loss: 0.0022\n",
      "Epoch 13/100\n",
      " - 39s - loss: 0.0023 - val_loss: 0.0024\n",
      "Epoch 14/100\n",
      " - 39s - loss: 0.0023 - val_loss: 0.0023\n",
      "Epoch 15/100\n",
      " - 39s - loss: 0.0023 - val_loss: 0.0022\n",
      "Epoch 16/100\n",
      " - 39s - loss: 0.0023 - val_loss: 0.0022\n",
      "Epoch 17/100\n",
      " - 39s - loss: 0.0023 - val_loss: 0.0022\n",
      "Epoch 18/100\n",
      " - 39s - loss: 0.0023 - val_loss: 0.0022\n",
      "Epoch 19/100\n",
      " - 39s - loss: 0.0023 - val_loss: 0.0023\n",
      "Epoch 20/100\n",
      " - 46s - loss: 0.0023 - val_loss: 0.0022\n",
      "Epoch 21/100\n",
      " - 41s - loss: 0.0022 - val_loss: 0.0022\n",
      "Epoch 22/100\n",
      " - 39s - loss: 0.0023 - val_loss: 0.0022\n",
      "Epoch 23/100\n",
      " - 39s - loss: 0.0022 - val_loss: 0.0021\n",
      "Epoch 24/100\n",
      " - 40s - loss: 0.0022 - val_loss: 0.0022\n",
      "Epoch 25/100\n",
      " - 39s - loss: 0.0023 - val_loss: 0.0022\n",
      "Epoch 26/100\n",
      " - 39s - loss: 0.0022 - val_loss: 0.0022\n",
      "Epoch 27/100\n",
      " - 39s - loss: 0.0022 - val_loss: 0.0022\n",
      "Epoch 28/100\n",
      " - 39s - loss: 0.0022 - val_loss: 0.0022\n",
      "Epoch 29/100\n",
      " - 39s - loss: 0.0022 - val_loss: 0.0022\n",
      "Epoch 30/100\n",
      " - 39s - loss: 0.0022 - val_loss: 0.0023\n",
      "Epoch 31/100\n",
      " - 39s - loss: 0.0022 - val_loss: 0.0021\n",
      "Epoch 32/100\n",
      " - 39s - loss: 0.0022 - val_loss: 0.0021\n",
      "Epoch 33/100\n",
      " - 39s - loss: 0.0022 - val_loss: 0.0021\n",
      "Epoch 34/100\n",
      " - 39s - loss: 0.0022 - val_loss: 0.0022\n",
      "Epoch 35/100\n",
      " - 39s - loss: 0.0022 - val_loss: 0.0022\n",
      "Epoch 36/100\n",
      " - 39s - loss: 0.0022 - val_loss: 0.0022\n",
      "Epoch 37/100\n",
      " - 39s - loss: 0.0022 - val_loss: 0.0022\n",
      "Epoch 38/100\n",
      " - 39s - loss: 0.0022 - val_loss: 0.0022\n",
      "Epoch 39/100\n",
      " - 39s - loss: 0.0022 - val_loss: 0.0022\n",
      "Epoch 40/100\n",
      " - 39s - loss: 0.0022 - val_loss: 0.0021\n",
      "Epoch 41/100\n",
      " - 39s - loss: 0.0022 - val_loss: 0.0023\n",
      "Epoch 42/100\n",
      " - 39s - loss: 0.0022 - val_loss: 0.0022\n",
      "Epoch 43/100\n",
      " - 45s - loss: 0.0022 - val_loss: 0.0022\n",
      "Epoch 44/100\n",
      " - 40s - loss: 0.0022 - val_loss: 0.0022\n",
      "Epoch 45/100\n",
      " - 39s - loss: 0.0022 - val_loss: 0.0022\n",
      "Epoch 46/100\n",
      " - 39s - loss: 0.0022 - val_loss: 0.0021\n",
      "Epoch 47/100\n",
      " - 39s - loss: 0.0022 - val_loss: 0.0022\n",
      "Epoch 48/100\n",
      " - 39s - loss: 0.0022 - val_loss: 0.0021\n",
      "Epoch 49/100\n",
      " - 39s - loss: 0.0022 - val_loss: 0.0021\n",
      "Epoch 50/100\n",
      " - 39s - loss: 0.0022 - val_loss: 0.0022\n",
      "Epoch 51/100\n",
      " - 39s - loss: 0.0022 - val_loss: 0.0022\n",
      "Epoch 52/100\n",
      " - 39s - loss: 0.0022 - val_loss: 0.0022\n",
      "Epoch 53/100\n",
      " - 39s - loss: 0.0022 - val_loss: 0.0021\n",
      "Epoch 54/100\n",
      " - 39s - loss: 0.0022 - val_loss: 0.0021\n",
      "Epoch 55/100\n",
      " - 39s - loss: 0.0022 - val_loss: 0.0022\n",
      "Epoch 56/100\n",
      " - 39s - loss: 0.0022 - val_loss: 0.0022\n",
      "Epoch 57/100\n",
      " - 39s - loss: 0.0022 - val_loss: 0.0022\n",
      "Epoch 58/100\n",
      " - 39s - loss: 0.0022 - val_loss: 0.0021\n",
      "Epoch 59/100\n",
      " - 39s - loss: 0.0022 - val_loss: 0.0022\n",
      "Epoch 60/100\n",
      " - 39s - loss: 0.0022 - val_loss: 0.0022\n",
      "Epoch 61/100\n",
      " - 39s - loss: 0.0022 - val_loss: 0.0022\n",
      "Epoch 62/100\n",
      " - 39s - loss: 0.0022 - val_loss: 0.0022\n",
      "Epoch 63/100\n",
      " - 39s - loss: 0.0022 - val_loss: 0.0022\n",
      "Epoch 64/100\n",
      " - 39s - loss: 0.0022 - val_loss: 0.0022\n",
      "Epoch 65/100\n",
      " - 39s - loss: 0.0022 - val_loss: 0.0022\n",
      "Epoch 66/100\n",
      " - 46s - loss: 0.0022 - val_loss: 0.0022\n",
      "Epoch 67/100\n",
      " - 45s - loss: 0.0022 - val_loss: 0.0022\n",
      "Epoch 68/100\n",
      " - 42s - loss: 0.0022 - val_loss: 0.0022\n",
      "Epoch 69/100\n",
      " - 44s - loss: 0.0022 - val_loss: 0.0022\n",
      "Epoch 70/100\n",
      " - 43s - loss: 0.0022 - val_loss: 0.0021\n",
      "Epoch 71/100\n",
      " - 39s - loss: 0.0022 - val_loss: 0.0022\n",
      "Epoch 72/100\n",
      " - 40s - loss: 0.0022 - val_loss: 0.0022\n",
      "Epoch 73/100\n",
      " - 39s - loss: 0.0022 - val_loss: 0.0022\n",
      "Epoch 74/100\n",
      " - 39s - loss: 0.0022 - val_loss: 0.0022\n",
      "Epoch 75/100\n",
      " - 39s - loss: 0.0022 - val_loss: 0.0022\n",
      "Epoch 76/100\n",
      " - 39s - loss: 0.0022 - val_loss: 0.0022\n",
      "Epoch 77/100\n",
      " - 40s - loss: 0.0022 - val_loss: 0.0022\n",
      "Epoch 78/100\n",
      " - 40s - loss: 0.0022 - val_loss: 0.0022\n",
      "Epoch 79/100\n",
      " - 39s - loss: 0.0022 - val_loss: 0.0021\n",
      "Epoch 80/100\n",
      " - 39s - loss: 0.0022 - val_loss: 0.0022\n",
      "Epoch 81/100\n",
      " - 40s - loss: 0.0022 - val_loss: 0.0022\n",
      "Epoch 82/100\n",
      " - 39s - loss: 0.0022 - val_loss: 0.0022\n",
      "Epoch 83/100\n",
      " - 39s - loss: 0.0022 - val_loss: 0.0021\n",
      "Epoch 84/100\n",
      " - 41s - loss: 0.0022 - val_loss: 0.0021\n",
      "Epoch 85/100\n",
      " - 43s - loss: 0.0022 - val_loss: 0.0022\n",
      "Epoch 86/100\n",
      " - 44s - loss: 0.0022 - val_loss: 0.0022\n",
      "Epoch 87/100\n",
      " - 44s - loss: 0.0022 - val_loss: 0.0022\n",
      "Epoch 88/100\n",
      " - 45s - loss: 0.0022 - val_loss: 0.0023\n",
      "Epoch 89/100\n",
      " - 45s - loss: 0.0022 - val_loss: 0.0022\n",
      "Epoch 90/100\n",
      " - 45s - loss: 0.0022 - val_loss: 0.0022\n",
      "Epoch 91/100\n",
      " - 45s - loss: 0.0022 - val_loss: 0.0022\n",
      "Epoch 92/100\n",
      " - 45s - loss: 0.0022 - val_loss: 0.0022\n",
      "Epoch 93/100\n",
      " - 45s - loss: 0.0022 - val_loss: 0.0022\n",
      "Epoch 94/100\n",
      " - 45s - loss: 0.0022 - val_loss: 0.0022\n",
      "Epoch 95/100\n",
      " - 45s - loss: 0.0022 - val_loss: 0.0022\n",
      "Epoch 96/100\n",
      " - 45s - loss: 0.0022 - val_loss: 0.0022\n",
      "Epoch 97/100\n",
      " - 44s - loss: 0.0022 - val_loss: 0.0021\n",
      "Epoch 98/100\n",
      " - 43s - loss: 0.0022 - val_loss: 0.0021\n",
      "Epoch 99/100\n",
      " - 56s - loss: 0.0022 - val_loss: 0.0022\n",
      "Epoch 100/100\n",
      " - 54s - loss: 0.0022 - val_loss: 0.0021\n"
     ]
    }
   ],
   "source": [
    "mod_6 = model.fit(format_sub_train_x, np.copy(y_train), epochs=100, batch_size=100, \n",
    "                    validation_data=(format_sub_val_x, np.copy(y_valid)), verbose=2, shuffle=False)"
   ]
  },
  {
   "cell_type": "code",
   "execution_count": 28,
   "metadata": {
    "collapsed": true
   },
   "outputs": [],
   "source": [
    "model.save('model/model_6.h5')"
   ]
  }
 ],
 "metadata": {
  "kernelspec": {
   "display_name": "Python 3",
   "language": "python",
   "name": "python3"
  },
  "language_info": {
   "codemirror_mode": {
    "name": "ipython",
    "version": 3
   },
   "file_extension": ".py",
   "mimetype": "text/x-python",
   "name": "python",
   "nbconvert_exporter": "python",
   "pygments_lexer": "ipython3",
   "version": "3.5.2"
  }
 },
 "nbformat": 4,
 "nbformat_minor": 2
}
